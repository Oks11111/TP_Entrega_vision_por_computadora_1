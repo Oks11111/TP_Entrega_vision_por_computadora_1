{
 "cells": [
  {
   "cell_type": "code",
   "execution_count": 7,
   "metadata": {},
   "outputs": [],
   "source": [
    "import cv2 as cv\n",
    "import numpy as np\n",
    "#from skimage import data, filters"
   ]
  },
  {
   "cell_type": "code",
   "execution_count": 8,
   "metadata": {},
   "outputs": [],
   "source": [
    "filename=r\"C:\\Users\\54922\\GITHUB\\vision_computadora_I\\TP_Entrega_vision_por_computadora_1\\vtest.avi\"\n",
    "cap = cv.VideoCapture(filename)\n",
    "if not cap.isOpened:\n",
    "    print('Falla al abrir el archivo: ' + filename)\n",
    "    exit(0)"
   ]
  },
  {
   "cell_type": "code",
   "execution_count": 9,
   "metadata": {},
   "outputs": [],
   "source": [
    "#definimos los metodos de substracción de fondo mediante Gaussiano y Mediana \n",
    "backSubGauss = cv.createBackgroundSubtractorMOG2()\n",
    "\n",
    "def backSubMedian(frames):\n",
    "    backSubMedian = np.median(frames, axis=0).astype(dtype=np.uint8) \n",
    "    return backSubMedian\n",
    "\n"
   ]
  },
  {
   "cell_type": "markdown",
   "metadata": {},
   "source": [
    "### Extracción de fondo usando la mascara de mediana"
   ]
  },
  {
   "cell_type": "code",
   "execution_count": 10,
   "metadata": {},
   "outputs": [
    {
     "data": {
      "text/plain": [
       "\"\\ncv.imshow('Median frame', fmedian)\\ncv.waitKey(0)\\n\""
      ]
     },
     "execution_count": 10,
     "metadata": {},
     "output_type": "execute_result"
    }
   ],
   "source": [
    "# Se seleccionan 24 frame random\n",
    "frameIds = cap.get(cv.CAP_PROP_FRAME_COUNT) * np.random.uniform(size=24)\n",
    "frames = []\n",
    "for fid in frameIds:\n",
    "    cap.set(cv.CAP_PROP_POS_FRAMES, fid)\n",
    "    ret, frame = cap.read()\n",
    "    frames.append(frame)\n",
    "\n",
    "#Se calcula mediana de frames\n",
    "fmedian = backSubMedian(frames)\n",
    "#Se muestra el frame calculado con mediana\n",
    "cv.imshow('Median frame', fmedian)\n",
    "cv.waitKey(0)"
   ]
  },
  {
   "cell_type": "code",
   "execution_count": 11,
   "metadata": {},
   "outputs": [
    {
     "data": {
      "text/plain": [
       "\"\\nwhile True:\\n# Leemos frames\\n\\tret, frame = cap.read()\\n# Convertimos a escala de grises\\n\\tframe = cv.cvtColor(frame, cv.COLOR_BGR2GRAY)\\n# Se calcula la diferencia absoluta entre el frame y mediana\\n\\tdframe = cv.absdiff(frame, grayMedianFrame)\\n\\tth, dframe = cv.threshold(dframe, 30, 255, cv.THRESH_BINARY)\\n# Display image\\n\\tcv.imshow('frame', dframe)\\n\\tkeyboard=cv.waitKey(30)\\n\\tif keyboard == 'q' or keyboard == 27:\\n\\t\\tbreak\\n\\n\\t\\ncv.destroyAllWindows()\\ncap.release()\\n\""
      ]
     },
     "execution_count": 11,
     "metadata": {},
     "output_type": "execute_result"
    }
   ],
   "source": [
    "#Aca conviene que el video esté dentro del proyecto. sino tira un error vimculado a path\n",
    "\n",
    "# Se resetea cantidad de frames a 0\n",
    "cap.set(cv.CAP_PROP_POS_FRAMES, 0)\n",
    "# se convierte el fondo a escala de grises\n",
    "grayMedianFrame = cv.cvtColor(fmedian, cv.COLOR_BGR2GRAY)"
   ]
  },
  {
   "cell_type": "code",
   "execution_count": 12,
   "metadata": {},
   "outputs": [],
   "source": [
    "# Corremos la sustraccion\n",
    "#------------------------\n",
    "while True:\n",
    "    # Leemos un frame\n",
    "    ret, frame = cap.read()\n",
    "    if frame is None:\n",
    "        break\n",
    "    \n",
    "    # Aplicamos la sustracción al frame leído\n",
    "    #----------------------------------------\n",
    "    # Cada frame se utiliza tanto para calcular la máscara de primer plano como para actualizar el fondo.\n",
    "    # Si se desea cambiar la tasa de aprendizaje utilizada para actualizar el modelo de fondo, es posible\n",
    "    # establecer una tasa de aprendizaje específica pasando un parámetro al método apply.\n",
    "\n",
    "    #######    GAUSSIAN  #############\n",
    "    fgMask = backSubGauss.apply(frame)\n",
    "\n",
    "    #######    MEDIAN   ##############\n",
    "    frame = cv.cvtColor(frame, cv.COLOR_BGR2GRAY)\n",
    "    # Se calcula la diferencia absoluta entre el frame y mediana\n",
    "    dframe = cv.absdiff(frame, grayMedianFrame)\n",
    "    th, fmMask = cv.threshold(dframe, 30, 255, cv.THRESH_BINARY)\n",
    "    ##################################\n",
    "    \n",
    "    # Escribimos sobre la imagen el número de frame procesado\n",
    "    cv.rectangle(frame, (10, 2), (100,20), (255,255,255), -1)\n",
    "    cv.putText(frame, str(cap.get(cv.CAP_PROP_POS_FRAMES)), (15, 15),\n",
    "               cv.FONT_HERSHEY_SIMPLEX, 0.5 , (0,0,0))\n",
    "    \n",
    "    # mostramos frame original e imagen binaria background/foreground\n",
    "    cv.imshow('Frame', frame)\n",
    "    cv.imshow('FG Mask', fgMask)\n",
    "    cv.imshow('frame', fmMask)\n",
    "\n",
    "\n",
    "\n",
    "    # Corresmos hasta que termine o apriete escape\n",
    "    keyboard = cv.waitKey(30)\n",
    "    if keyboard == 'q' or keyboard == 27:\n",
    "        break\n",
    "\n",
    "cv.destroyAllWindows()\n",
    "cap.release()"
   ]
  },
  {
   "cell_type": "markdown",
   "metadata": {},
   "source": [
    "### * Se observa menor ruido y mejor manejo de sombras en el caso de extracción de fondo utilizando mediana. "
   ]
  },
  {
   "cell_type": "markdown",
   "metadata": {},
   "source": []
  }
 ],
 "metadata": {
  "interpreter": {
   "hash": "c97934db89806fc3f4afece3cb356f5c0fc1be04e99aec550e2fd6e9d9218234"
  },
  "kernelspec": {
   "display_name": "Python 3.8.7 64-bit",
   "language": "python",
   "name": "python3"
  },
  "language_info": {
   "codemirror_mode": {
    "name": "ipython",
    "version": 3
   },
   "file_extension": ".py",
   "mimetype": "text/x-python",
   "name": "python",
   "nbconvert_exporter": "python",
   "pygments_lexer": "ipython3",
   "version": "3.8.7"
  },
  "orig_nbformat": 4
 },
 "nbformat": 4,
 "nbformat_minor": 2
}
